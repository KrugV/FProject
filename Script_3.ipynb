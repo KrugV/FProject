{
 "cells": [
  {
   "cell_type": "code",
   "execution_count": 1,
   "metadata": {},
   "outputs": [],
   "source": [
    "import numpy as np\n",
    "import pandas as pd"
   ]
  },
  {
   "cell_type": "code",
   "execution_count": 2,
   "metadata": {},
   "outputs": [],
   "source": [
    "train = pd.read_excel('dataset_dixy_1.xlsx')"
   ]
  },
  {
   "cell_type": "code",
   "execution_count": 3,
   "metadata": {
    "scrolled": true
   },
   "outputs": [
    {
     "data": {
      "text/html": [
       "<div>\n",
       "<style scoped>\n",
       "    .dataframe tbody tr th:only-of-type {\n",
       "        vertical-align: middle;\n",
       "    }\n",
       "\n",
       "    .dataframe tbody tr th {\n",
       "        vertical-align: top;\n",
       "    }\n",
       "\n",
       "    .dataframe thead th {\n",
       "        text-align: right;\n",
       "    }\n",
       "</style>\n",
       "<table border=\"1\" class=\"dataframe\">\n",
       "  <thead>\n",
       "    <tr style=\"text-align: right;\">\n",
       "      <th></th>\n",
       "      <th>Id</th>\n",
       "      <th>work_time</th>\n",
       "      <th>rab_kol_dn</th>\n",
       "      <th>lat</th>\n",
       "      <th>long_</th>\n",
       "      <th>alco</th>\n",
       "      <th>TC_R100</th>\n",
       "      <th>TC_R200</th>\n",
       "      <th>TC_R300</th>\n",
       "      <th>TC_R500</th>\n",
       "      <th>...</th>\n",
       "      <th>age_m60</th>\n",
       "      <th>poi_cnt_R100</th>\n",
       "      <th>poi_cnt_R200</th>\n",
       "      <th>poi_cnt_R300</th>\n",
       "      <th>poi_cnt_R500</th>\n",
       "      <th>poi_cnt_R1000</th>\n",
       "      <th>poi_cnt_R300_500</th>\n",
       "      <th>poi_cnt_R500_1000</th>\n",
       "      <th>arenda_R1000</th>\n",
       "      <th>revenue</th>\n",
       "    </tr>\n",
       "  </thead>\n",
       "  <tbody>\n",
       "    <tr>\n",
       "      <th>0</th>\n",
       "      <td>50881</td>\n",
       "      <td>24</td>\n",
       "      <td>2347</td>\n",
       "      <td>55.464536</td>\n",
       "      <td>37.552112</td>\n",
       "      <td>1</td>\n",
       "      <td>1</td>\n",
       "      <td>1</td>\n",
       "      <td>2</td>\n",
       "      <td>2</td>\n",
       "      <td>...</td>\n",
       "      <td>1701</td>\n",
       "      <td>38</td>\n",
       "      <td>68</td>\n",
       "      <td>100</td>\n",
       "      <td>180</td>\n",
       "      <td>482</td>\n",
       "      <td>80</td>\n",
       "      <td>302</td>\n",
       "      <td>0</td>\n",
       "      <td>495814.6757</td>\n",
       "    </tr>\n",
       "    <tr>\n",
       "      <th>1</th>\n",
       "      <td>90260</td>\n",
       "      <td>14</td>\n",
       "      <td>188</td>\n",
       "      <td>56.310215</td>\n",
       "      <td>37.934300</td>\n",
       "      <td>0</td>\n",
       "      <td>0</td>\n",
       "      <td>0</td>\n",
       "      <td>0</td>\n",
       "      <td>0</td>\n",
       "      <td>...</td>\n",
       "      <td>238</td>\n",
       "      <td>0</td>\n",
       "      <td>0</td>\n",
       "      <td>0</td>\n",
       "      <td>0</td>\n",
       "      <td>0</td>\n",
       "      <td>0</td>\n",
       "      <td>0</td>\n",
       "      <td>0</td>\n",
       "      <td>268209.0854</td>\n",
       "    </tr>\n",
       "    <tr>\n",
       "      <th>2</th>\n",
       "      <td>77574</td>\n",
       "      <td>15</td>\n",
       "      <td>195</td>\n",
       "      <td>55.860746</td>\n",
       "      <td>37.372431</td>\n",
       "      <td>0</td>\n",
       "      <td>0</td>\n",
       "      <td>0</td>\n",
       "      <td>0</td>\n",
       "      <td>0</td>\n",
       "      <td>...</td>\n",
       "      <td>891</td>\n",
       "      <td>0</td>\n",
       "      <td>1</td>\n",
       "      <td>5</td>\n",
       "      <td>7</td>\n",
       "      <td>78</td>\n",
       "      <td>2</td>\n",
       "      <td>71</td>\n",
       "      <td>0</td>\n",
       "      <td>252603.3630</td>\n",
       "    </tr>\n",
       "    <tr>\n",
       "      <th>3</th>\n",
       "      <td>47229</td>\n",
       "      <td>13</td>\n",
       "      <td>198</td>\n",
       "      <td>59.641823</td>\n",
       "      <td>30.428861</td>\n",
       "      <td>0</td>\n",
       "      <td>0</td>\n",
       "      <td>0</td>\n",
       "      <td>0</td>\n",
       "      <td>0</td>\n",
       "      <td>...</td>\n",
       "      <td>403</td>\n",
       "      <td>2</td>\n",
       "      <td>6</td>\n",
       "      <td>7</td>\n",
       "      <td>8</td>\n",
       "      <td>9</td>\n",
       "      <td>1</td>\n",
       "      <td>1</td>\n",
       "      <td>0</td>\n",
       "      <td>299161.2951</td>\n",
       "    </tr>\n",
       "    <tr>\n",
       "      <th>4</th>\n",
       "      <td>90259</td>\n",
       "      <td>13</td>\n",
       "      <td>200</td>\n",
       "      <td>55.389600</td>\n",
       "      <td>38.201000</td>\n",
       "      <td>0</td>\n",
       "      <td>0</td>\n",
       "      <td>0</td>\n",
       "      <td>0</td>\n",
       "      <td>0</td>\n",
       "      <td>...</td>\n",
       "      <td>0</td>\n",
       "      <td>0</td>\n",
       "      <td>1</td>\n",
       "      <td>8</td>\n",
       "      <td>9</td>\n",
       "      <td>12</td>\n",
       "      <td>1</td>\n",
       "      <td>3</td>\n",
       "      <td>0</td>\n",
       "      <td>192371.9766</td>\n",
       "    </tr>\n",
       "  </tbody>\n",
       "</table>\n",
       "<p>5 rows × 370 columns</p>\n",
       "</div>"
      ],
      "text/plain": [
       "      Id  work_time  rab_kol_dn        lat      long_  alco  TC_R100  TC_R200  \\\n",
       "0  50881         24        2347  55.464536  37.552112     1        1        1   \n",
       "1  90260         14         188  56.310215  37.934300     0        0        0   \n",
       "2  77574         15         195  55.860746  37.372431     0        0        0   \n",
       "3  47229         13         198  59.641823  30.428861     0        0        0   \n",
       "4  90259         13         200  55.389600  38.201000     0        0        0   \n",
       "\n",
       "   TC_R300  TC_R500  ...  age_m60  poi_cnt_R100  poi_cnt_R200  poi_cnt_R300  \\\n",
       "0        2        2  ...     1701            38            68           100   \n",
       "1        0        0  ...      238             0             0             0   \n",
       "2        0        0  ...      891             0             1             5   \n",
       "3        0        0  ...      403             2             6             7   \n",
       "4        0        0  ...        0             0             1             8   \n",
       "\n",
       "   poi_cnt_R500  poi_cnt_R1000  poi_cnt_R300_500  poi_cnt_R500_1000  \\\n",
       "0           180            482                80                302   \n",
       "1             0              0                 0                  0   \n",
       "2             7             78                 2                 71   \n",
       "3             8              9                 1                  1   \n",
       "4             9             12                 1                  3   \n",
       "\n",
       "   arenda_R1000      revenue  \n",
       "0             0  495814.6757  \n",
       "1             0  268209.0854  \n",
       "2             0  252603.3630  \n",
       "3             0  299161.2951  \n",
       "4             0  192371.9766  \n",
       "\n",
       "[5 rows x 370 columns]"
      ]
     },
     "execution_count": 3,
     "metadata": {},
     "output_type": "execute_result"
    }
   ],
   "source": [
    "train.head()"
   ]
  },
  {
   "cell_type": "markdown",
   "metadata": {},
   "source": [
    "Приведение типов данных"
   ]
  },
  {
   "cell_type": "code",
   "execution_count": 4,
   "metadata": {
    "scrolled": true
   },
   "outputs": [
    {
     "name": "stdout",
     "output_type": "stream",
     "text": [
      "<class 'pandas.core.frame.DataFrame'>\n",
      "RangeIndex: 2472 entries, 0 to 2471\n",
      "Columns: 370 entries, Id to revenue\n",
      "dtypes: float64(6), int64(364)\n",
      "memory usage: 7.0 MB\n"
     ]
    }
   ],
   "source": [
    "train.info()"
   ]
  },
  {
   "cell_type": "code",
   "execution_count": 5,
   "metadata": {},
   "outputs": [
    {
     "data": {
      "text/plain": [
       "dtype('int64')"
      ]
     },
     "execution_count": 5,
     "metadata": {},
     "output_type": "execute_result"
    }
   ],
   "source": [
    "train['Id'].dtype"
   ]
  },
  {
   "cell_type": "code",
   "execution_count": 6,
   "metadata": {
    "scrolled": true
   },
   "outputs": [
    {
     "data": {
      "text/plain": [
       "dtype('O')"
      ]
     },
     "execution_count": 6,
     "metadata": {},
     "output_type": "execute_result"
    }
   ],
   "source": [
    "train['Id'] = train['Id'].astype(str)\n",
    "train['Id'].dtype"
   ]
  },
  {
   "cell_type": "markdown",
   "metadata": {},
   "source": [
    "Обзор количественных переменных"
   ]
  },
  {
   "cell_type": "code",
   "execution_count": 7,
   "metadata": {
    "scrolled": true
   },
   "outputs": [
    {
     "data": {
      "text/html": [
       "<div>\n",
       "<style scoped>\n",
       "    .dataframe tbody tr th:only-of-type {\n",
       "        vertical-align: middle;\n",
       "    }\n",
       "\n",
       "    .dataframe tbody tr th {\n",
       "        vertical-align: top;\n",
       "    }\n",
       "\n",
       "    .dataframe thead th {\n",
       "        text-align: right;\n",
       "    }\n",
       "</style>\n",
       "<table border=\"1\" class=\"dataframe\">\n",
       "  <thead>\n",
       "    <tr style=\"text-align: right;\">\n",
       "      <th></th>\n",
       "      <th>work_time</th>\n",
       "      <th>rab_kol_dn</th>\n",
       "      <th>lat</th>\n",
       "      <th>long_</th>\n",
       "      <th>alco</th>\n",
       "      <th>TC_R100</th>\n",
       "      <th>TC_R200</th>\n",
       "      <th>TC_R300</th>\n",
       "      <th>TC_R500</th>\n",
       "      <th>TC_R1000</th>\n",
       "      <th>...</th>\n",
       "      <th>age_m60</th>\n",
       "      <th>poi_cnt_R100</th>\n",
       "      <th>poi_cnt_R200</th>\n",
       "      <th>poi_cnt_R300</th>\n",
       "      <th>poi_cnt_R500</th>\n",
       "      <th>poi_cnt_R1000</th>\n",
       "      <th>poi_cnt_R300_500</th>\n",
       "      <th>poi_cnt_R500_1000</th>\n",
       "      <th>arenda_R1000</th>\n",
       "      <th>revenue</th>\n",
       "    </tr>\n",
       "  </thead>\n",
       "  <tbody>\n",
       "    <tr>\n",
       "      <th>0</th>\n",
       "      <td>24</td>\n",
       "      <td>2347</td>\n",
       "      <td>55.464536</td>\n",
       "      <td>37.552112</td>\n",
       "      <td>1</td>\n",
       "      <td>1</td>\n",
       "      <td>1</td>\n",
       "      <td>2</td>\n",
       "      <td>2</td>\n",
       "      <td>3</td>\n",
       "      <td>...</td>\n",
       "      <td>1701</td>\n",
       "      <td>38</td>\n",
       "      <td>68</td>\n",
       "      <td>100</td>\n",
       "      <td>180</td>\n",
       "      <td>482</td>\n",
       "      <td>80</td>\n",
       "      <td>302</td>\n",
       "      <td>0</td>\n",
       "      <td>495814.6757</td>\n",
       "    </tr>\n",
       "    <tr>\n",
       "      <th>1</th>\n",
       "      <td>14</td>\n",
       "      <td>188</td>\n",
       "      <td>56.310215</td>\n",
       "      <td>37.934300</td>\n",
       "      <td>0</td>\n",
       "      <td>0</td>\n",
       "      <td>0</td>\n",
       "      <td>0</td>\n",
       "      <td>0</td>\n",
       "      <td>0</td>\n",
       "      <td>...</td>\n",
       "      <td>238</td>\n",
       "      <td>0</td>\n",
       "      <td>0</td>\n",
       "      <td>0</td>\n",
       "      <td>0</td>\n",
       "      <td>0</td>\n",
       "      <td>0</td>\n",
       "      <td>0</td>\n",
       "      <td>0</td>\n",
       "      <td>268209.0854</td>\n",
       "    </tr>\n",
       "    <tr>\n",
       "      <th>2</th>\n",
       "      <td>15</td>\n",
       "      <td>195</td>\n",
       "      <td>55.860746</td>\n",
       "      <td>37.372431</td>\n",
       "      <td>0</td>\n",
       "      <td>0</td>\n",
       "      <td>0</td>\n",
       "      <td>0</td>\n",
       "      <td>0</td>\n",
       "      <td>0</td>\n",
       "      <td>...</td>\n",
       "      <td>891</td>\n",
       "      <td>0</td>\n",
       "      <td>1</td>\n",
       "      <td>5</td>\n",
       "      <td>7</td>\n",
       "      <td>78</td>\n",
       "      <td>2</td>\n",
       "      <td>71</td>\n",
       "      <td>0</td>\n",
       "      <td>252603.3630</td>\n",
       "    </tr>\n",
       "    <tr>\n",
       "      <th>3</th>\n",
       "      <td>13</td>\n",
       "      <td>198</td>\n",
       "      <td>59.641823</td>\n",
       "      <td>30.428861</td>\n",
       "      <td>0</td>\n",
       "      <td>0</td>\n",
       "      <td>0</td>\n",
       "      <td>0</td>\n",
       "      <td>0</td>\n",
       "      <td>0</td>\n",
       "      <td>...</td>\n",
       "      <td>403</td>\n",
       "      <td>2</td>\n",
       "      <td>6</td>\n",
       "      <td>7</td>\n",
       "      <td>8</td>\n",
       "      <td>9</td>\n",
       "      <td>1</td>\n",
       "      <td>1</td>\n",
       "      <td>0</td>\n",
       "      <td>299161.2951</td>\n",
       "    </tr>\n",
       "    <tr>\n",
       "      <th>4</th>\n",
       "      <td>13</td>\n",
       "      <td>200</td>\n",
       "      <td>55.389600</td>\n",
       "      <td>38.201000</td>\n",
       "      <td>0</td>\n",
       "      <td>0</td>\n",
       "      <td>0</td>\n",
       "      <td>0</td>\n",
       "      <td>0</td>\n",
       "      <td>0</td>\n",
       "      <td>...</td>\n",
       "      <td>0</td>\n",
       "      <td>0</td>\n",
       "      <td>1</td>\n",
       "      <td>8</td>\n",
       "      <td>9</td>\n",
       "      <td>12</td>\n",
       "      <td>1</td>\n",
       "      <td>3</td>\n",
       "      <td>0</td>\n",
       "      <td>192371.9766</td>\n",
       "    </tr>\n",
       "  </tbody>\n",
       "</table>\n",
       "<p>5 rows × 369 columns</p>\n",
       "</div>"
      ],
      "text/plain": [
       "   work_time  rab_kol_dn        lat      long_  alco  TC_R100  TC_R200  \\\n",
       "0         24        2347  55.464536  37.552112     1        1        1   \n",
       "1         14         188  56.310215  37.934300     0        0        0   \n",
       "2         15         195  55.860746  37.372431     0        0        0   \n",
       "3         13         198  59.641823  30.428861     0        0        0   \n",
       "4         13         200  55.389600  38.201000     0        0        0   \n",
       "\n",
       "   TC_R300  TC_R500  TC_R1000  ...  age_m60  poi_cnt_R100  poi_cnt_R200  \\\n",
       "0        2        2         3  ...     1701            38            68   \n",
       "1        0        0         0  ...      238             0             0   \n",
       "2        0        0         0  ...      891             0             1   \n",
       "3        0        0         0  ...      403             2             6   \n",
       "4        0        0         0  ...        0             0             1   \n",
       "\n",
       "   poi_cnt_R300  poi_cnt_R500  poi_cnt_R1000  poi_cnt_R300_500  \\\n",
       "0           100           180            482                80   \n",
       "1             0             0              0                 0   \n",
       "2             5             7             78                 2   \n",
       "3             7             8              9                 1   \n",
       "4             8             9             12                 1   \n",
       "\n",
       "   poi_cnt_R500_1000  arenda_R1000      revenue  \n",
       "0                302             0  495814.6757  \n",
       "1                  0             0  268209.0854  \n",
       "2                 71             0  252603.3630  \n",
       "3                  1             0  299161.2951  \n",
       "4                  3             0  192371.9766  \n",
       "\n",
       "[5 rows x 369 columns]"
      ]
     },
     "execution_count": 7,
     "metadata": {},
     "output_type": "execute_result"
    }
   ],
   "source": [
    "train_num_features = train.select_dtypes(include=['float64', 'int64'])\n",
    "train_num_features.head()"
   ]
  },
  {
   "cell_type": "code",
   "execution_count": 8,
   "metadata": {},
   "outputs": [
    {
     "data": {
      "text/html": [
       "<div>\n",
       "<style scoped>\n",
       "    .dataframe tbody tr th:only-of-type {\n",
       "        vertical-align: middle;\n",
       "    }\n",
       "\n",
       "    .dataframe tbody tr th {\n",
       "        vertical-align: top;\n",
       "    }\n",
       "\n",
       "    .dataframe thead th {\n",
       "        text-align: right;\n",
       "    }\n",
       "</style>\n",
       "<table border=\"1\" class=\"dataframe\">\n",
       "  <thead>\n",
       "    <tr style=\"text-align: right;\">\n",
       "      <th></th>\n",
       "      <th>work_time</th>\n",
       "      <th>rab_kol_dn</th>\n",
       "      <th>lat</th>\n",
       "      <th>long_</th>\n",
       "      <th>alco</th>\n",
       "      <th>TC_R100</th>\n",
       "      <th>TC_R200</th>\n",
       "      <th>TC_R300</th>\n",
       "      <th>TC_R500</th>\n",
       "      <th>TC_R1000</th>\n",
       "      <th>...</th>\n",
       "      <th>age_m60</th>\n",
       "      <th>poi_cnt_R100</th>\n",
       "      <th>poi_cnt_R200</th>\n",
       "      <th>poi_cnt_R300</th>\n",
       "      <th>poi_cnt_R500</th>\n",
       "      <th>poi_cnt_R1000</th>\n",
       "      <th>poi_cnt_R300_500</th>\n",
       "      <th>poi_cnt_R500_1000</th>\n",
       "      <th>arenda_R1000</th>\n",
       "      <th>revenue</th>\n",
       "    </tr>\n",
       "  </thead>\n",
       "  <tbody>\n",
       "    <tr>\n",
       "      <th>count</th>\n",
       "      <td>2472.000000</td>\n",
       "      <td>2472.000000</td>\n",
       "      <td>2472.000000</td>\n",
       "      <td>2472.000000</td>\n",
       "      <td>2472.000000</td>\n",
       "      <td>2472.000000</td>\n",
       "      <td>2472.000000</td>\n",
       "      <td>2472.000000</td>\n",
       "      <td>2472.000000</td>\n",
       "      <td>2472.00000</td>\n",
       "      <td>...</td>\n",
       "      <td>2472.000000</td>\n",
       "      <td>2472.000000</td>\n",
       "      <td>2472.00000</td>\n",
       "      <td>2472.000000</td>\n",
       "      <td>2472.000000</td>\n",
       "      <td>2472.000000</td>\n",
       "      <td>2472.000000</td>\n",
       "      <td>2472.000000</td>\n",
       "      <td>2472.000000</td>\n",
       "      <td>2.472000e+03</td>\n",
       "    </tr>\n",
       "    <tr>\n",
       "      <th>mean</th>\n",
       "      <td>16.509304</td>\n",
       "      <td>2832.667476</td>\n",
       "      <td>56.784837</td>\n",
       "      <td>37.206023</td>\n",
       "      <td>0.934061</td>\n",
       "      <td>0.126618</td>\n",
       "      <td>0.264159</td>\n",
       "      <td>0.427589</td>\n",
       "      <td>0.856392</td>\n",
       "      <td>2.50445</td>\n",
       "      <td>...</td>\n",
       "      <td>2732.512540</td>\n",
       "      <td>17.156553</td>\n",
       "      <td>45.15534</td>\n",
       "      <td>84.457929</td>\n",
       "      <td>200.480178</td>\n",
       "      <td>662.804612</td>\n",
       "      <td>116.022249</td>\n",
       "      <td>462.324434</td>\n",
       "      <td>277.268204</td>\n",
       "      <td>3.017728e+05</td>\n",
       "    </tr>\n",
       "    <tr>\n",
       "      <th>std</th>\n",
       "      <td>4.260241</td>\n",
       "      <td>1233.699610</td>\n",
       "      <td>2.546036</td>\n",
       "      <td>5.874059</td>\n",
       "      <td>0.248225</td>\n",
       "      <td>0.397976</td>\n",
       "      <td>0.693528</td>\n",
       "      <td>0.961635</td>\n",
       "      <td>1.594966</td>\n",
       "      <td>3.40863</td>\n",
       "      <td>...</td>\n",
       "      <td>2882.970472</td>\n",
       "      <td>23.350291</td>\n",
       "      <td>61.61027</td>\n",
       "      <td>116.968230</td>\n",
       "      <td>287.104936</td>\n",
       "      <td>962.748724</td>\n",
       "      <td>183.575743</td>\n",
       "      <td>705.247784</td>\n",
       "      <td>417.585910</td>\n",
       "      <td>1.459611e+05</td>\n",
       "    </tr>\n",
       "    <tr>\n",
       "      <th>min</th>\n",
       "      <td>11.000000</td>\n",
       "      <td>188.000000</td>\n",
       "      <td>52.224958</td>\n",
       "      <td>27.612998</td>\n",
       "      <td>0.000000</td>\n",
       "      <td>0.000000</td>\n",
       "      <td>0.000000</td>\n",
       "      <td>0.000000</td>\n",
       "      <td>0.000000</td>\n",
       "      <td>0.00000</td>\n",
       "      <td>...</td>\n",
       "      <td>0.000000</td>\n",
       "      <td>0.000000</td>\n",
       "      <td>0.00000</td>\n",
       "      <td>0.000000</td>\n",
       "      <td>0.000000</td>\n",
       "      <td>0.000000</td>\n",
       "      <td>0.000000</td>\n",
       "      <td>0.000000</td>\n",
       "      <td>0.000000</td>\n",
       "      <td>3.960381e+04</td>\n",
       "    </tr>\n",
       "    <tr>\n",
       "      <th>25%</th>\n",
       "      <td>14.000000</td>\n",
       "      <td>1984.750000</td>\n",
       "      <td>55.510853</td>\n",
       "      <td>34.592380</td>\n",
       "      <td>1.000000</td>\n",
       "      <td>0.000000</td>\n",
       "      <td>0.000000</td>\n",
       "      <td>0.000000</td>\n",
       "      <td>0.000000</td>\n",
       "      <td>0.00000</td>\n",
       "      <td>...</td>\n",
       "      <td>323.000000</td>\n",
       "      <td>0.000000</td>\n",
       "      <td>0.00000</td>\n",
       "      <td>0.000000</td>\n",
       "      <td>0.000000</td>\n",
       "      <td>0.000000</td>\n",
       "      <td>0.000000</td>\n",
       "      <td>0.000000</td>\n",
       "      <td>0.000000</td>\n",
       "      <td>1.993121e+05</td>\n",
       "    </tr>\n",
       "    <tr>\n",
       "      <th>50%</th>\n",
       "      <td>15.000000</td>\n",
       "      <td>2622.000000</td>\n",
       "      <td>55.816460</td>\n",
       "      <td>37.548737</td>\n",
       "      <td>1.000000</td>\n",
       "      <td>0.000000</td>\n",
       "      <td>0.000000</td>\n",
       "      <td>0.000000</td>\n",
       "      <td>0.000000</td>\n",
       "      <td>1.00000</td>\n",
       "      <td>...</td>\n",
       "      <td>1909.000000</td>\n",
       "      <td>10.000000</td>\n",
       "      <td>26.00000</td>\n",
       "      <td>50.000000</td>\n",
       "      <td>112.000000</td>\n",
       "      <td>326.500000</td>\n",
       "      <td>51.500000</td>\n",
       "      <td>187.000000</td>\n",
       "      <td>0.000000</td>\n",
       "      <td>2.636795e+05</td>\n",
       "    </tr>\n",
       "    <tr>\n",
       "      <th>75%</th>\n",
       "      <td>15.000000</td>\n",
       "      <td>3171.000000</td>\n",
       "      <td>57.647845</td>\n",
       "      <td>38.097893</td>\n",
       "      <td>1.000000</td>\n",
       "      <td>0.000000</td>\n",
       "      <td>0.000000</td>\n",
       "      <td>1.000000</td>\n",
       "      <td>1.000000</td>\n",
       "      <td>4.00000</td>\n",
       "      <td>...</td>\n",
       "      <td>3954.000000</td>\n",
       "      <td>24.000000</td>\n",
       "      <td>62.25000</td>\n",
       "      <td>114.000000</td>\n",
       "      <td>274.000000</td>\n",
       "      <td>962.500000</td>\n",
       "      <td>154.000000</td>\n",
       "      <td>669.000000</td>\n",
       "      <td>550.000000</td>\n",
       "      <td>3.665925e+05</td>\n",
       "    </tr>\n",
       "    <tr>\n",
       "      <th>max</th>\n",
       "      <td>24.000000</td>\n",
       "      <td>7377.000000</td>\n",
       "      <td>69.403802</td>\n",
       "      <td>65.600281</td>\n",
       "      <td>1.000000</td>\n",
       "      <td>4.000000</td>\n",
       "      <td>7.000000</td>\n",
       "      <td>10.000000</td>\n",
       "      <td>14.000000</td>\n",
       "      <td>29.00000</td>\n",
       "      <td>...</td>\n",
       "      <td>16038.000000</td>\n",
       "      <td>243.000000</td>\n",
       "      <td>588.00000</td>\n",
       "      <td>1021.000000</td>\n",
       "      <td>2470.000000</td>\n",
       "      <td>7518.000000</td>\n",
       "      <td>1827.000000</td>\n",
       "      <td>5458.000000</td>\n",
       "      <td>2901.000000</td>\n",
       "      <td>1.167637e+06</td>\n",
       "    </tr>\n",
       "  </tbody>\n",
       "</table>\n",
       "<p>8 rows × 369 columns</p>\n",
       "</div>"
      ],
      "text/plain": [
       "         work_time   rab_kol_dn          lat        long_         alco  \\\n",
       "count  2472.000000  2472.000000  2472.000000  2472.000000  2472.000000   \n",
       "mean     16.509304  2832.667476    56.784837    37.206023     0.934061   \n",
       "std       4.260241  1233.699610     2.546036     5.874059     0.248225   \n",
       "min      11.000000   188.000000    52.224958    27.612998     0.000000   \n",
       "25%      14.000000  1984.750000    55.510853    34.592380     1.000000   \n",
       "50%      15.000000  2622.000000    55.816460    37.548737     1.000000   \n",
       "75%      15.000000  3171.000000    57.647845    38.097893     1.000000   \n",
       "max      24.000000  7377.000000    69.403802    65.600281     1.000000   \n",
       "\n",
       "           TC_R100      TC_R200      TC_R300      TC_R500    TC_R1000  ...  \\\n",
       "count  2472.000000  2472.000000  2472.000000  2472.000000  2472.00000  ...   \n",
       "mean      0.126618     0.264159     0.427589     0.856392     2.50445  ...   \n",
       "std       0.397976     0.693528     0.961635     1.594966     3.40863  ...   \n",
       "min       0.000000     0.000000     0.000000     0.000000     0.00000  ...   \n",
       "25%       0.000000     0.000000     0.000000     0.000000     0.00000  ...   \n",
       "50%       0.000000     0.000000     0.000000     0.000000     1.00000  ...   \n",
       "75%       0.000000     0.000000     1.000000     1.000000     4.00000  ...   \n",
       "max       4.000000     7.000000    10.000000    14.000000    29.00000  ...   \n",
       "\n",
       "            age_m60  poi_cnt_R100  poi_cnt_R200  poi_cnt_R300  poi_cnt_R500  \\\n",
       "count   2472.000000   2472.000000    2472.00000   2472.000000   2472.000000   \n",
       "mean    2732.512540     17.156553      45.15534     84.457929    200.480178   \n",
       "std     2882.970472     23.350291      61.61027    116.968230    287.104936   \n",
       "min        0.000000      0.000000       0.00000      0.000000      0.000000   \n",
       "25%      323.000000      0.000000       0.00000      0.000000      0.000000   \n",
       "50%     1909.000000     10.000000      26.00000     50.000000    112.000000   \n",
       "75%     3954.000000     24.000000      62.25000    114.000000    274.000000   \n",
       "max    16038.000000    243.000000     588.00000   1021.000000   2470.000000   \n",
       "\n",
       "       poi_cnt_R1000  poi_cnt_R300_500  poi_cnt_R500_1000  arenda_R1000  \\\n",
       "count    2472.000000       2472.000000        2472.000000   2472.000000   \n",
       "mean      662.804612        116.022249         462.324434    277.268204   \n",
       "std       962.748724        183.575743         705.247784    417.585910   \n",
       "min         0.000000          0.000000           0.000000      0.000000   \n",
       "25%         0.000000          0.000000           0.000000      0.000000   \n",
       "50%       326.500000         51.500000         187.000000      0.000000   \n",
       "75%       962.500000        154.000000         669.000000    550.000000   \n",
       "max      7518.000000       1827.000000        5458.000000   2901.000000   \n",
       "\n",
       "            revenue  \n",
       "count  2.472000e+03  \n",
       "mean   3.017728e+05  \n",
       "std    1.459611e+05  \n",
       "min    3.960381e+04  \n",
       "25%    1.993121e+05  \n",
       "50%    2.636795e+05  \n",
       "75%    3.665925e+05  \n",
       "max    1.167637e+06  \n",
       "\n",
       "[8 rows x 369 columns]"
      ]
     },
     "execution_count": 8,
     "metadata": {},
     "output_type": "execute_result"
    }
   ],
   "source": [
    "train.describe()"
   ]
  },
  {
   "cell_type": "markdown",
   "metadata": {},
   "source": [
    "Обзор номинативных переменных"
   ]
  },
  {
   "cell_type": "code",
   "execution_count": 9,
   "metadata": {},
   "outputs": [
    {
     "data": {
      "text/html": [
       "<div>\n",
       "<style scoped>\n",
       "    .dataframe tbody tr th:only-of-type {\n",
       "        vertical-align: middle;\n",
       "    }\n",
       "\n",
       "    .dataframe tbody tr th {\n",
       "        vertical-align: top;\n",
       "    }\n",
       "\n",
       "    .dataframe thead th {\n",
       "        text-align: right;\n",
       "    }\n",
       "</style>\n",
       "<table border=\"1\" class=\"dataframe\">\n",
       "  <thead>\n",
       "    <tr style=\"text-align: right;\">\n",
       "      <th></th>\n",
       "      <th>Id</th>\n",
       "    </tr>\n",
       "  </thead>\n",
       "  <tbody>\n",
       "    <tr>\n",
       "      <th>0</th>\n",
       "      <td>50881</td>\n",
       "    </tr>\n",
       "    <tr>\n",
       "      <th>1</th>\n",
       "      <td>90260</td>\n",
       "    </tr>\n",
       "    <tr>\n",
       "      <th>2</th>\n",
       "      <td>77574</td>\n",
       "    </tr>\n",
       "    <tr>\n",
       "      <th>3</th>\n",
       "      <td>47229</td>\n",
       "    </tr>\n",
       "    <tr>\n",
       "      <th>4</th>\n",
       "      <td>90259</td>\n",
       "    </tr>\n",
       "  </tbody>\n",
       "</table>\n",
       "</div>"
      ],
      "text/plain": [
       "      Id\n",
       "0  50881\n",
       "1  90260\n",
       "2  77574\n",
       "3  47229\n",
       "4  90259"
      ]
     },
     "execution_count": 9,
     "metadata": {},
     "output_type": "execute_result"
    }
   ],
   "source": [
    "train_obj_features = train.select_dtypes(include='object')\n",
    "train_obj_features.head()"
   ]
  },
  {
   "cell_type": "markdown",
   "metadata": {},
   "source": [
    "Обработка пропусков"
   ]
  },
  {
   "cell_type": "code",
   "execution_count": 10,
   "metadata": {},
   "outputs": [
    {
     "data": {
      "text/plain": [
       "Id                   0\n",
       "work_time            0\n",
       "rab_kol_dn           0\n",
       "lat                  0\n",
       "long_                0\n",
       "                    ..\n",
       "poi_cnt_R1000        0\n",
       "poi_cnt_R300_500     0\n",
       "poi_cnt_R500_1000    0\n",
       "arenda_R1000         0\n",
       "revenue              0\n",
       "Length: 370, dtype: int64"
      ]
     },
     "execution_count": 10,
     "metadata": {},
     "output_type": "execute_result"
    }
   ],
   "source": [
    "len(train) - train.count()"
   ]
  },
  {
   "cell_type": "code",
   "execution_count": 11,
   "metadata": {
    "scrolled": true
   },
   "outputs": [
    {
     "name": "stdout",
     "output_type": "stream",
     "text": [
      "2472\n",
      "Id                   2472\n",
      "work_time            2472\n",
      "rab_kol_dn           2472\n",
      "lat                  2472\n",
      "long_                2472\n",
      "                     ... \n",
      "poi_cnt_R1000        2472\n",
      "poi_cnt_R300_500     2472\n",
      "poi_cnt_R500_1000    2472\n",
      "arenda_R1000         2472\n",
      "revenue              2472\n",
      "Length: 370, dtype: int64\n"
     ]
    }
   ],
   "source": [
    "print(len(train))\n",
    "print(train.count())"
   ]
  },
  {
   "cell_type": "markdown",
   "metadata": {},
   "source": [
    "Визуализация и анализ данных."
   ]
  },
  {
   "cell_type": "code",
   "execution_count": 12,
   "metadata": {},
   "outputs": [],
   "source": [
    "import matplotlib\n",
    "import matplotlib.image as img\n",
    "import matplotlib.pyplot as plt\n",
    "import seaborn as sns\n",
    "%matplotlib inline"
   ]
  },
  {
   "cell_type": "code",
   "execution_count": 13,
   "metadata": {},
   "outputs": [],
   "source": [
    "matplotlib.rcParams.update({'font.size': 14})"
   ]
  },
  {
   "cell_type": "code",
   "execution_count": 14,
   "metadata": {},
   "outputs": [
    {
     "data": {
      "text/plain": [
       "Id                    object\n",
       "work_time              int64\n",
       "rab_kol_dn             int64\n",
       "lat                  float64\n",
       "long_                float64\n",
       "                      ...   \n",
       "poi_cnt_R1000          int64\n",
       "poi_cnt_R300_500       int64\n",
       "poi_cnt_R500_1000      int64\n",
       "arenda_R1000           int64\n",
       "revenue              float64\n",
       "Length: 370, dtype: object"
      ]
     },
     "execution_count": 14,
     "metadata": {},
     "output_type": "execute_result"
    }
   ],
   "source": [
    "train.dtypes"
   ]
  },
  {
   "cell_type": "markdown",
   "metadata": {},
   "source": [
    "Анализ целевой переменной"
   ]
  },
  {
   "cell_type": "code",
   "execution_count": 21,
   "metadata": {},
   "outputs": [
    {
     "data": {
      "image/png": "[encoded data removed]",
      "text/plain": [
       "<Figure size 1152x576 with 2 Axes>"
      ]
     },
     "metadata": {
      "needs_background": "light"
     },
     "output_type": "display_data"
    }
   ],
   "source": [
    "plt.figure(figsize = (16, 8))\n",
    "\n",
    "plt.subplot(121)\n",
    "train['revenue'].hist()\n",
    "plt.ylabel('count')\n",
    "plt.xlabel('revenue')\n",
    "\n",
    "plt.subplot(122)\n",
    "sns.kdeplot(train['revenue'], shade=True, legend=False)\n",
    "plt.xlabel('revenue')\n",
    "\n",
    "plt.suptitle('Анализ СДТО на торговой сети')\n",
    "plt.show()"
   ]
  },
  {
   "cell_type": "code",
   "execution_count": 18,
   "metadata": {},
   "outputs": [
    {
     "data": {
      "text/plain": [
       "(301772.78, 263679.53315000003, 39603.80919)"
      ]
     },
     "execution_count": 18,
     "metadata": {},
     "output_type": "execute_result"
    }
   ],
   "source": [
    "target_mean = round(train['revenue'].mean(), 2)\n",
    "target_median = train['revenue'].median()\n",
    "target_mode = train['revenue'].mode()[0]\n",
    "\n",
    "target_mean, target_median, target_mode"
   ]
  },
  {
   "cell_type": "code",
   "execution_count": 22,
   "metadata": {},
   "outputs": [
    {
     "name": "stderr",
     "output_type": "stream",
     "text": [
      "C:\\ProgramData\\Anaconda3\\lib\\site-packages\\seaborn\\distributions.py:2557: FutureWarning: `distplot` is a deprecated function and will be removed in a future version. Please adapt your code to use either `displot` (a figure-level function with similar flexibility) or `histplot` (an axes-level function for histograms).\n",
      "  warnings.warn(msg, FutureWarning)\n"
     ]
    },
    {
     "data": {
      "image/png": "[encoded data removed]",
      "text/plain": [
       "<Figure size 1152x576 with 1 Axes>"
      ]
     },
     "metadata": {
      "needs_background": "light"
     },
     "output_type": "display_data"
    }
   ],
   "source": [
    "plt.figure(figsize = (16, 8))\n",
    "\n",
    "sns.distplot(train['revenue'])\n",
    "\n",
    "y = np.linspace(0, 0.000007, 100)\n",
    "plt.plot([target_mean] * 100, y, label='mean', linestyle=':', linewidth=4)\n",
    "plt.plot([target_median] * 100, y, label='median', linestyle='--', linewidth=4)\n",
    "plt.plot([target_mode] * 100, y, label='mode', linestyle='-.', linewidth=4)\n",
    "\n",
    "plt.title('Анализ СДТО на торговой сети')\n",
    "plt.legend()\n",
    "plt.show()"
   ]
  },
  {
   "cell_type": "markdown",
   "metadata": {},
   "source": [
    "Оценка распредения целевой переменной в разрезе других признаков"
   ]
  },
  {
   "cell_type": "code",
   "execution_count": 29,
   "metadata": {},
   "outputs": [
    {
     "data": {
      "image/png": "[encoded data removed]",
      "text/plain": [
       "<Figure size 1152x576 with 1 Axes>"
      ]
     },
     "metadata": {
      "needs_background": "light"
     },
     "output_type": "display_data"
    }
   ],
   "source": [
    "plt.figure(figsize=(16, 8))\n",
    "\n",
    "plt.scatter(train['revenue'], train['age_m60'])\n",
    "\n",
    "plt.xlabel('revenue')\n",
    "plt.ylabel('age_m60')\n",
    "plt.title('Зависимость ТО магазина от 60 летних покупателей')\n",
    "plt.show()"
   ]
  }
 ],
 "metadata": {
  "kernelspec": {
   "display_name": "Python 3",
   "language": "python",
   "name": "python3"
  },
  "language_info": {
   "codemirror_mode": {
    "name": "ipython",
    "version": 3
   },
   "file_extension": ".py",
   "mimetype": "text/x-python",
   "name": "python",
   "nbconvert_exporter": "python",
   "pygments_lexer": "ipython3",
   "version": "3.8.8"
  }
 },
 "nbformat": 4,
 "nbformat_minor": 4
}
